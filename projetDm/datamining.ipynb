{
 "cells": [
  {
   "cell_type": "code",
   "execution_count": null,
   "outputs": [],
   "source": [
    "from sklearn import tree\n",
    "import pandas as pd\n",
    "from sklearn.preprocessing import LabelEncoder\n",
    "import urllib.request\n",
    "import json\n",
    "import csv\n",
    "import html\n",
    "from bs4 import BeautifulSoup\n",
    "import  PIL.Image\n",
    "from PIL import Image\n",
    "from PIL.ExifTags import TAGS\n",
    "import numpy\n",
    "import math\n",
    "import matplotlib.pyplot as plot\n",
    "from sklearn.cluster import KMeans\n",
    "import os\n",
    "import shutil\n",
    "import cv2\n",
    "from colorthief import ColorThief\n",
    "import time\n",
    "from webcolors import rgb_to_name\n",
    "from scipy.spatial import KDTree\n",
    "from webcolors import(CSS3_HEX_TO_NAMES , hex_to_rgb,\n",
    ")\n",
    "import random\n"
   ],
   "metadata": {
    "collapsed": false,
    "pycharm": {
     "name": "#%% les bibiliotheqes\n"
    }
   }
  },
  {
   "cell_type": "code",
   "execution_count": 2,
   "outputs": [
    {
     "name": "stdout",
     "output_type": "stream",
     "text": [
      "donne\n"
     ]
    }
   ],
   "source": [
    "try:\n",
    "    shutil.rmtree('images')\n",
    "except:\n",
    "    os.mkdir('images')\n",
    "\n",
    "try:\n",
    "    os.mkdir('images')\n",
    "except:\n",
    "    print('dossier creer ')\n",
    "\n",
    "print('donne')"
   ],
   "metadata": {
    "collapsed": false,
    "pycharm": {
     "name": "#%% creer un dossier image\n"
    }
   }
  },
  {
   "cell_type": "code",
   "execution_count": 4,
   "outputs": [
    {
     "name": "stdout",
     "output_type": "stream",
     "text": [
      "['http://www.wikidata.org/entity/Q49581026', 'Toffee', 'http://commons.wikimedia.org/wiki/Special:FilePath/Fat%20cat%2C%20asleep%20%28319313958%29.jpg', 'http://www.wikidata.org/entity/Q51596094', 'Crimean Tom', 'http://commons.wikimedia.org/wiki/Special:FilePath/Crimean%20Tom.jpg', 'http://www.wikidata.org/entity/Q53216650', 'Nitama', 'http://commons.wikimedia.org/wiki/Special:FilePath/Stationmaster%20NITAMA%2020110105.jpg', 'http://www.wikidata.org/entity/Q54087698', 'Foss', 'http://commons.wikimedia.org/wiki/Special:FilePath/Foss%20Couchant.jpg', 'http://www.wikidata.org/entity/Q61133276', 'Åžero', 'http://commons.wikimedia.org/wiki/Special:FilePath/%C5%9Eero%20CHP.jpg', 'http://www.wikidata.org/entity/Q62128317', 'Naro', 'http://commons.wikimedia.org/wiki/Special:FilePath/Naro%2C%20blue-eyed%20cross-siamese%20cat%2C%20at%20Josselin%2004.jpg', 'http://www.wikidata.org/entity/Q66737405', 'Mittens', 'http://commons.wikimedia.org/wiki/Special:FilePath/Mittens%20the%20cat%20of%20wellington.jpg', 'http://www.wikidata.org/entity/Q76974430', 'Apelmon', 'http://commons.wikimedia.org/wiki/Special:FilePath/%D0%9D%D0%B0%D1%82%D0%B0%D0%BB%D0%BA%D0%B0%20%D0%94%D1%96%D0%B4%D0%B5%D0%BD%D0%BA%D0%BE%20%D0%B7%20%D0%BA%D0%BE%D1%82%D0%BE%D0%BC%20%D0%90%D0%BF%D0%B5%D0%BB%D1%8C%D0%BC%D0%BE%D0%BD%D0%BE%D0%BC.jpg', 'http://www.wikidata.org/entity/Q94990539', 'Pip', 'http://commons.wikimedia.org/wiki/Special:FilePath/Henry%20Wellcome%27s%20cats%20Wellcome%20L0069711.jpg', 'http://www.wikidata.org/entity/Q105330885', 'Tuna', 'http://commons.wikimedia.org/wiki/Special:FilePath/Tuna%20Chapa%2C%20Brewing%20Beer.jpg', 'http://www.wikidata.org/entity/Q378619', 'CC', 'http://commons.wikimedia.org/wiki/Special:FilePath/Ccandowner2003.jpg', 'http://www.wikidata.org/entity/Q677525', 'Orangey', 'http://commons.wikimedia.org/wiki/Special:FilePath/Orangey%20with%20Audrey%20Hepburn%20in%20Breakfast%20at%20Tiffanys.jpg', 'http://www.wikidata.org/entity/Q851190', 'Mrs. Chippy', 'http://commons.wikimedia.org/wiki/Special:FilePath/Mrschippy2.png', 'http://www.wikidata.org/entity/Q1201902', 'Tama', 'http://commons.wikimedia.org/wiki/Special:FilePath/Station-Master%20Tama.JPG', 'http://www.wikidata.org/entity/Q1371145', 'Socks', 'http://commons.wikimedia.org/wiki/Special:FilePath/Socks%20the%20Cat%20Explores.jpg', 'http://www.wikidata.org/entity/Q1413628', 'Nora', 'http://commons.wikimedia.org/wiki/Special:FilePath/NoraPianoCat.jpg', 'http://www.wikidata.org/entity/Q1622688', 'Hodge', 'http://commons.wikimedia.org/wiki/Special:FilePath/Hodgecat%20flickr.jpg', 'http://www.wikidata.org/entity/Q2060630', 'India', 'http://commons.wikimedia.org/wiki/Special:FilePath/India%20the%20Cat%20Miss%20Beazley%20and%20Barney%20Halloween%202007%20%28cropped%29.jpg', 'http://www.wikidata.org/entity/Q2060630', 'India', 'http://commons.wikimedia.org/wiki/Special:FilePath/IndioCat.jpg', 'http://www.wikidata.org/entity/Q2060630', 'India', 'http://commons.wikimedia.org/wiki/Special:FilePath/WhiteHousePets%2C%20ValentinesDay2007.jpg', 'http://www.wikidata.org/entity/Q2262318', 'Larry', 'http://commons.wikimedia.org/wiki/Special:FilePath/Larry%20the%20Cat.jpg', 'http://www.wikidata.org/entity/Q4421603', 'Scarlett', 'http://commons.wikimedia.org/wiki/Special:FilePath/ScarlettTheCat.jpg', 'http://www.wikidata.org/entity/Q5503291', 'Freya', 'http://commons.wikimedia.org/wiki/Special:FilePath/Freya%20the%20cat-20120615%20132253%20%28cropped%29.jpg', 'http://www.wikidata.org/entity/Q6928344', 'Mr. Nuts', 'http://commons.wikimedia.org/wiki/Special:FilePath/Mr%20Nuts%20Executive%20Portrait.jpg', 'http://www.wikidata.org/entity/Q7430467', \"Scarlett's Magic\", 'http://commons.wikimedia.org/wiki/Special:FilePath/Guinness%20Cat%206.jpg', 'http://www.wikidata.org/entity/Q7553023', 'Sockington', 'http://commons.wikimedia.org/wiki/Special:FilePath/Sockington%20from%20above.jpg', 'http://www.wikidata.org/entity/Q7627362', 'Stubbs', 'http://commons.wikimedia.org/wiki/Special:FilePath/Mayor%20Stubbs.jpg', 'http://www.wikidata.org/entity/Q7714263', 'Grumpy Cat', 'http://commons.wikimedia.org/wiki/Special:FilePath/Grumpy%20Cat%20%2814556024763%29%20%28cropped%29.jpg', 'http://www.wikidata.org/entity/Q10813994', 'Tsim Tung Brother Cream', 'http://commons.wikimedia.org/wiki/Special:FilePath/Brother%20cream%20in%20stall.jpg', 'http://www.wikidata.org/entity/Q11291938', 'Nora', 'http://commons.wikimedia.org/wiki/Special:FilePath/%E3%82%AA%E3%82%B7%E3%83%B3%E3%82%B3%E3%82%B7%E3%83%B3%E3%81%AE%E6%BB%9D%E3%81%AE%E7%8C%AB%E3%81%AE%E6%98%BC%E5%AF%9D.jpg', 'http://www.wikidata.org/entity/Q14916910', 'Buurtpoes Bledder', 'http://commons.wikimedia.org/wiki/Special:FilePath/Buurtpoesbledder.jpg', 'http://www.wikidata.org/entity/Q15991501', 'Hamish McHamish', 'http://commons.wikimedia.org/wiki/Special:FilePath/Hamish%20McHamish%20In%20Bookshop.jpg', 'http://www.wikidata.org/entity/Q22774485', 'Think Think', 'http://commons.wikimedia.org/wiki/Special:FilePath/07.22%20%E7%B8%BD%E7%B5%B1%E9%8C%84%E8%A3%BDYoutube%E5%BD%B1%E7%89%87.jpg', 'http://www.wikidata.org/entity/Q24705153', 'Ah Tsai', 'http://commons.wikimedia.org/wiki/Special:FilePath/04.12%20%E7%B8%BD%E7%B5%B1%E8%A7%80%E8%B3%9E%E4%B8%AD%E8%8F%AF%E8%81%B7%E6%A3%92%E6%AF%94%E8%B3%BD%20Tsai%20Ing-Wen%20watching%20baseball%20with%20Ah%20Tsai.jpg', 'http://www.wikidata.org/entity/Q25171691', 'Palmerston', 'http://commons.wikimedia.org/wiki/Special:FilePath/Palmerston%20%2826341788971%29.jpg', 'http://www.wikidata.org/entity/Q27190410', 'Gladstone', 'http://commons.wikimedia.org/wiki/Special:FilePath/Gladstone%20a%20year%20in%20Treasury%20%281%29.jpg', 'http://www.wikidata.org/entity/Q27744042', 'Bob', 'http://commons.wikimedia.org/wiki/Special:FilePath/James%20and%20Bob.jpg', 'http://www.wikidata.org/entity/Q27926432', 'Tombili', 'http://commons.wikimedia.org/wiki/Special:FilePath/Tombili%20statue%20Istanbul.jpg', 'http://www.wikidata.org/entity/Q28665865', 'Ðœyka', 'http://commons.wikimedia.org/wiki/Special:FilePath/%D0%9D%D0%B0%D1%82%D0%B0%D0%BB%D0%B8%D1%8F%20%D0%A3%D1%88%D0%B0%D0%BA%D0%BE%D0%B2%D0%B0.%201927.jpg', 'http://www.wikidata.org/entity/Q28792126', 'Gli', 'http://commons.wikimedia.org/wiki/Special:FilePath/Ayasofya%20Gli%20cat.jpg', 'http://www.wikidata.org/entity/Q6813732', 'melt sandwich', 'http://commons.wikimedia.org/wiki/Special:FilePath/Tuna%20melt%20sandwich%20with%20fries.jpg', 'http://www.wikidata.org/entity/Q6914349', 'Mortadella sandwich', 'http://commons.wikimedia.org/wiki/Special:FilePath/Mortadella%20sandwich%2001.jpg', 'http://www.wikidata.org/entity/Q7158585', 'pebete', '', 'http://www.wikidata.org/entity/Q7198502', 'pistolette', '', 'http://www.wikidata.org/entity/Q7206451', 'pocket sandwich', 'http://commons.wikimedia.org/wiki/Special:FilePath/Tempeh%20reuben%20pita%20sandwich%20%287189946579%29.jpg', 'http://www.wikidata.org/entity/Q7238914', 'prawn roll', 'http://commons.wikimedia.org/wiki/Special:FilePath/Prawn%20roll.jpg', 'http://www.wikidata.org/entity/Q7306192', 'Redonkadonk', '', 'http://www.wikidata.org/entity/Q7405551', 'salmon burger', 'http://commons.wikimedia.org/wiki/Special:FilePath/Salmon%20burger.jpg', 'http://www.wikidata.org/entity/Q7427595', 'sausage sandwich', 'http://commons.wikimedia.org/wiki/Special:FilePath/Italian%20Sausage%20Sandwich.jpg', 'http://www.wikidata.org/entity/Q7605242', 'steak sandwich', 'http://commons.wikimedia.org/wiki/Special:FilePath/Cheese%20steak%20sandwich.jpg', 'http://www.wikidata.org/entity/Q7605242', 'steak sandwich', 'http://commons.wikimedia.org/wiki/Special:FilePath/Shredded%20Steak%20with%20Peppers%2C%20Onions%20and%20Tomatoes%20%28Ropa%20Vieja%29.jpg', 'http://www.wikidata.org/entity/Q7811415', 'toast sandwich', 'http://commons.wikimedia.org/wiki/Special:FilePath/An%20image%20of%20a%20toast%20sandwich%2C%20shot%20from%20the%20side.jpg', 'http://www.wikidata.org/entity/Q7811415', 'toast sandwich', 'http://commons.wikimedia.org/wiki/Special:FilePath/Two%20toast%20sandwiches%2C%20the%20Fat%20Duck%2C%20November%202012.jpg', 'http://www.wikidata.org/entity/Q7827283', 'Torta ahogada', 'http://commons.wikimedia.org/wiki/Special:FilePath/Torta%20Ahogada%20%26%20Radish.jpg', 'http://www.wikidata.org/entity/Q7918342', 'vegetable sandwich', 'http://commons.wikimedia.org/wiki/Special:FilePath/Vegetable%20sandwich.jpg', 'http://www.wikidata.org/entity/Q8245687', 'Beirut sandwich', 'http://commons.wikimedia.org/wiki/Special:FilePath/Beirute%20sande.jpg', 'http://www.wikidata.org/entity/Q9077681', 'Sincronizada', 'http://commons.wikimedia.org/wiki/Special:FilePath/Sincronizada%20mexicana.jpg', 'http://www.wikidata.org/entity/Q9657134', 'bifana', 'http://commons.wikimedia.org/wiki/Special:FilePath/Bifana%20on%20a%20plate.jpg', 'http://www.wikidata.org/entity/Q10353556', 'prego', '', 'http://www.wikidata.org/entity/Q10899266', 'Gua-bao', 'http://commons.wikimedia.org/wiki/Special:FilePath/Steamed%20Sandwich%2Ctaken%20by%20LeoAlmighty.jpg', 'http://www.wikidata.org/entity/Q11337766', 'toasted sandwich', 'http://commons.wikimedia.org/wiki/Special:FilePath/Sand.%20Mixto%20-%20Extra%20queso.jpg', 'http://www.wikidata.org/entity/Q13568060', 'wrap roti', 'http://commons.wikimedia.org/wiki/Special:FilePath/Roti%20wrap%20made%20with%20curry%20goat%20and%20potatoes%2001.jpg', 'http://www.wikidata.org/entity/Q15785303', 'Bake and Shark', 'http://commons.wikimedia.org/wiki/Special:FilePath/MISC%20Bake%20%26%20Shark.jpg', 'http://www.wikidata.org/entity/Q15823102', 'Karlsbader Schnitte', '', 'http://www.wikidata.org/entity/Q16024165', 'sandwich amÃ©ricain', '', 'http://www.wikidata.org/entity/Q16726108', 'pastrami on rye', 'http://commons.wikimedia.org/wiki/Special:FilePath/Pastrami-Sandwich.JPG', 'http://www.wikidata.org/entity/Q16961496', 'Maxwell Street Polish', 'http://commons.wikimedia.org/wiki/Special:FilePath/Polish%2C%20Pork%20Chop%20%26%20Onions.JPG', 'http://www.wikidata.org/entity/Q17103609', 'Medianoche', 'http://commons.wikimedia.org/wiki/Special:FilePath/Sandwich%20de%20Medianoche.jpg', 'http://www.wikidata.org/entity/Q17110181', 'New Jersey sloppy joe', 'http://commons.wikimedia.org/wiki/Special:FilePath/Millburn%20Deli%20Sloppy%20Joes.jpg', 'http://www.wikidata.org/entity/Q17115947', 'Doughwich', 'http://commons.wikimedia.org/wiki/Special:FilePath/Doughwich.jpg', 'http://www.wikidata.org/entity/Q17116283', 'Limburger sandwich', '', 'http://www.wikidata.org/entity/Q17355815', 'balÄ±k-ekmek', 'http://commons.wikimedia.org/wiki/Special:FilePath/Fish%20sandwich%2C%20Istanbul%2C%20Turkey.JPG', 'http://www.wikidata.org/entity/Q18785184', 'Carrozza', 'http://commons.wikimedia.org/wiki/Special:FilePath/Starters%2006.jpg', 'http://www.wikidata.org/entity/Q19950730', 'torta', 'http://commons.wikimedia.org/wiki/Special:FilePath/Tortamex.jpg', 'http://www.wikidata.org/entity/Q20981977', 'Spatlo', '', 'http://www.wikidata.org/entity/Q22115527', 'Sailor sandwich', 'http://commons.wikimedia.org/wiki/Special:FilePath/2015%200629%20Sailor%20at%20NYD.jpg', 'http://www.wikidata.org/entity/Q24943843', 'Afghani burger', '', 'http://www.wikidata.org/entity/Q24945530', 'Har cheong gai burger', '', 'http://www.wikidata.org/entity/Q25006844', 'spaghetti sandwich', 'http://commons.wikimedia.org/wiki/Special:FilePath/Spaghetti%20sandwich.jpg', 'http://www.wikidata.org/entity/Q25220557', 'tomato sandwich', 'http://commons.wikimedia.org/wiki/Special:FilePath/Fresh%20tomato%20sandwich.jpg', 'http://www.wikidata.org/entity/Q25220562', 'cheese and tomato sandwich', 'http://commons.wikimedia.org/wiki/Special:FilePath/Blue%20cheese%20and%20tomato%20sandwiches.jpg', 'http://www.wikidata.org/entity/Q28134524', 'Trancapecho', '', 'http://www.wikidata.org/entity/Q28493547', 'Omelette fries sandwich', 'http://commons.wikimedia.org/wiki/Special:FilePath/Sandwich%20frites-omelette.jpg', 'http://www.wikidata.org/entity/Q30635290', 'chopped cheese', '', 'http://www.wikidata.org/entity/Q47464157', 'barbecue sandwich', 'http://commons.wikimedia.org/wiki/Special:FilePath/Mmm...%20home%20made%20bbq%20sauce%20%285778277654%29.jpg', 'http://www.wikidata.org/entity/Q54423330', 'fish sandwich', 'http://commons.wikimedia.org/wiki/Special:FilePath/Salmon%20burger.jpg', 'http://www.wikidata.org/entity/Q55719554', 'McSpicy Chicken Filet', '', 'http://www.wikidata.org/entity/Q61579505', 'SÃ¡ndwich de chola', 'http://commons.wikimedia.org/wiki/Special:FilePath/Sandwich%20de%20chola.jpg', 'http://www.wikidata.org/entity/Q64166152', 'bison burgers', 'http://commons.wikimedia.org/wiki/Special:FilePath/Black%20Buffalo%20Burger%20and%20fries%20-%20Black%20Sheep%20Lodge%2C%20Austin%2C%20Texas.jpg', 'http://www.wikidata.org/entity/Q66371259', 'Pan con chicharrÃ³n', 'http://commons.wikimedia.org/wiki/Special:FilePath/Pan%20con%20Chicharron.jpg', 'http://www.wikidata.org/entity/Q4148644', 'Greenland', 'http://commons.wikimedia.org/wiki/Special:FilePath/Greenland%2042.74746W%2071.57394N.jpg', 'http://www.wikidata.org/entity/Q154190', 'Sunda Islands', 'http://commons.wikimedia.org/wiki/Special:FilePath/SundaIslands.A2003242.0225.500m.jpg', 'http://www.wikidata.org/entity/Q165481', 'Greater Sunda Islands', 'http://commons.wikimedia.org/wiki/Special:FilePath/Greater%20sunda%20islands.png', 'http://www.wikidata.org/entity/Q40285', 'New Guinea', 'http://commons.wikimedia.org/wiki/Special:FilePath/PapuaNG.png', 'http://www.wikidata.org/entity/Q36117', 'Borneo', 'http://commons.wikimedia.org/wiki/Special:FilePath/Gunung%20Kongkemul%20Borneo.png', 'http://www.wikidata.org/entity/Q7463928', 'Madagascar', 'http://commons.wikimedia.org/wiki/Special:FilePath/Satellite%20image%20of%20Madagascar%20in%20September%202003.jpg', 'http://www.wikidata.org/entity/Q81178', 'Baffin Island', 'http://commons.wikimedia.org/wiki/Special:FilePath/Wfm%20baffin%20island.jpg', 'http://www.wikidata.org/entity/Q3492', 'Sumatra', 'http://commons.wikimedia.org/wiki/Special:FilePath/Nepenthes%20junghuhnii%20distribution.png', 'http://www.wikidata.org/entity/Q216533', 'Queen Elizabeth Islands', 'http://commons.wikimedia.org/wiki/Special:FilePath/Queen%20Elizabeth%20Islands%202009-08-27%20%28MODIS%29.jpg', 'http://www.wikidata.org/entity/Q13989', 'Honshu', 'http://commons.wikimedia.org/wiki/Special:FilePath/Satellite%20image%20of%20Honshu%20in%20May%202003.png']\n",
      "image 0  :  http://commons.wikimedia.org/wiki/Special:FilePath/Fat%20cat%2C%20asleep%20%28319313958%29.jpg downloaded\n",
      "image 1  :  http://commons.wikimedia.org/wiki/Special:FilePath/Crimean%20Tom.jpg downloaded\n",
      "image 2  :  http://commons.wikimedia.org/wiki/Special:FilePath/Stationmaster%20NITAMA%2020110105.jpg downloaded\n",
      "image 3  :  http://commons.wikimedia.org/wiki/Special:FilePath/Foss%20Couchant.jpg downloaded\n",
      "image 4  :  http://commons.wikimedia.org/wiki/Special:FilePath/%C5%9Eero%20CHP.jpg downloaded\n",
      "image 5  :  http://commons.wikimedia.org/wiki/Special:FilePath/Naro%2C%20blue-eyed%20cross-siamese%20cat%2C%20at%20Josselin%2004.jpg downloaded\n",
      "image 6  :  http://commons.wikimedia.org/wiki/Special:FilePath/Mittens%20the%20cat%20of%20wellington.jpg downloaded\n",
      "image 7  :  http://commons.wikimedia.org/wiki/Special:FilePath/%D0%9D%D0%B0%D1%82%D0%B0%D0%BB%D0%BA%D0%B0%20%D0%94%D1%96%D0%B4%D0%B5%D0%BD%D0%BA%D0%BE%20%D0%B7%20%D0%BA%D0%BE%D1%82%D0%BE%D0%BC%20%D0%90%D0%BF%D0%B5%D0%BB%D1%8C%D0%BC%D0%BE%D0%BD%D0%BE%D0%BC.jpg downloaded\n",
      "image 8  :  http://commons.wikimedia.org/wiki/Special:FilePath/Henry%20Wellcome%27s%20cats%20Wellcome%20L0069711.jpg downloaded\n",
      "image 9  :  http://commons.wikimedia.org/wiki/Special:FilePath/Tuna%20Chapa%2C%20Brewing%20Beer.jpg downloaded\n",
      "image 10  :  http://commons.wikimedia.org/wiki/Special:FilePath/Ccandowner2003.jpg downloaded\n",
      "image 11  :  http://commons.wikimedia.org/wiki/Special:FilePath/Orangey%20with%20Audrey%20Hepburn%20in%20Breakfast%20at%20Tiffanys.jpg downloaded\n",
      "image 12  :  http://commons.wikimedia.org/wiki/Special:FilePath/Mrschippy2.png downloaded\n",
      "image 13  :  http://commons.wikimedia.org/wiki/Special:FilePath/Station-Master%20Tama.JPG downloaded\n",
      "image 14  :  http://commons.wikimedia.org/wiki/Special:FilePath/Socks%20the%20Cat%20Explores.jpg downloaded\n",
      "image 15  :  http://commons.wikimedia.org/wiki/Special:FilePath/NoraPianoCat.jpg downloaded\n",
      "image 16  :  http://commons.wikimedia.org/wiki/Special:FilePath/Hodgecat%20flickr.jpg downloaded\n",
      "image 17  :  http://commons.wikimedia.org/wiki/Special:FilePath/India%20the%20Cat%20Miss%20Beazley%20and%20Barney%20Halloween%202007%20%28cropped%29.jpg downloaded\n",
      "image 18  :  http://commons.wikimedia.org/wiki/Special:FilePath/IndioCat.jpg downloaded\n",
      "image 19  :  http://commons.wikimedia.org/wiki/Special:FilePath/WhiteHousePets%2C%20ValentinesDay2007.jpg downloaded\n",
      "image 20  :  http://commons.wikimedia.org/wiki/Special:FilePath/Larry%20the%20Cat.jpg downloaded\n",
      "image 21  :  http://commons.wikimedia.org/wiki/Special:FilePath/ScarlettTheCat.jpg downloaded\n",
      "image 22  :  http://commons.wikimedia.org/wiki/Special:FilePath/Freya%20the%20cat-20120615%20132253%20%28cropped%29.jpg downloaded\n",
      "image 23  :  http://commons.wikimedia.org/wiki/Special:FilePath/Mr%20Nuts%20Executive%20Portrait.jpg downloaded\n",
      "image 24  :  http://commons.wikimedia.org/wiki/Special:FilePath/Guinness%20Cat%206.jpg downloaded\n",
      "image 25  :  http://commons.wikimedia.org/wiki/Special:FilePath/Sockington%20from%20above.jpg downloaded\n",
      "image 26  :  http://commons.wikimedia.org/wiki/Special:FilePath/Mayor%20Stubbs.jpg downloaded\n",
      "image 27  :  http://commons.wikimedia.org/wiki/Special:FilePath/Grumpy%20Cat%20%2814556024763%29%20%28cropped%29.jpg downloaded\n",
      "image 28  :  http://commons.wikimedia.org/wiki/Special:FilePath/Brother%20cream%20in%20stall.jpg downloaded\n",
      "image 29  :  http://commons.wikimedia.org/wiki/Special:FilePath/%E3%82%AA%E3%82%B7%E3%83%B3%E3%82%B3%E3%82%B7%E3%83%B3%E3%81%AE%E6%BB%9D%E3%81%AE%E7%8C%AB%E3%81%AE%E6%98%BC%E5%AF%9D.jpg downloaded\n",
      "image 30  :  http://commons.wikimedia.org/wiki/Special:FilePath/Buurtpoesbledder.jpg downloaded\n",
      "image 31  :  http://commons.wikimedia.org/wiki/Special:FilePath/Hamish%20McHamish%20In%20Bookshop.jpg downloaded\n",
      "image 32  :  http://commons.wikimedia.org/wiki/Special:FilePath/07.22%20%E7%B8%BD%E7%B5%B1%E9%8C%84%E8%A3%BDYoutube%E5%BD%B1%E7%89%87.jpg downloaded\n",
      "image 33  :  http://commons.wikimedia.org/wiki/Special:FilePath/04.12%20%E7%B8%BD%E7%B5%B1%E8%A7%80%E8%B3%9E%E4%B8%AD%E8%8F%AF%E8%81%B7%E6%A3%92%E6%AF%94%E8%B3%BD%20Tsai%20Ing-Wen%20watching%20baseball%20with%20Ah%20Tsai.jpg downloaded\n",
      "image 34  :  http://commons.wikimedia.org/wiki/Special:FilePath/Palmerston%20%2826341788971%29.jpg downloaded\n",
      "image 35  :  http://commons.wikimedia.org/wiki/Special:FilePath/Gladstone%20a%20year%20in%20Treasury%20%281%29.jpg downloaded\n",
      "image 36  :  http://commons.wikimedia.org/wiki/Special:FilePath/James%20and%20Bob.jpg downloaded\n",
      "image 37  :  http://commons.wikimedia.org/wiki/Special:FilePath/Tombili%20statue%20Istanbul.jpg downloaded\n",
      "image 38  :  http://commons.wikimedia.org/wiki/Special:FilePath/%D0%9D%D0%B0%D1%82%D0%B0%D0%BB%D0%B8%D1%8F%20%D0%A3%D1%88%D0%B0%D0%BA%D0%BE%D0%B2%D0%B0.%201927.jpg downloaded\n",
      "image 39  :  http://commons.wikimedia.org/wiki/Special:FilePath/Ayasofya%20Gli%20cat.jpg downloaded\n",
      "image 40  :  http://commons.wikimedia.org/wiki/Special:FilePath/Tuna%20melt%20sandwich%20with%20fries.jpg downloaded\n",
      "image 41  :  http://commons.wikimedia.org/wiki/Special:FilePath/Mortadella%20sandwich%2001.jpg downloaded\n",
      "image 42  :  http://commons.wikimedia.org/wiki/Special:FilePath/Tempeh%20reuben%20pita%20sandwich%20%287189946579%29.jpg downloaded\n",
      "image 43  :  http://commons.wikimedia.org/wiki/Special:FilePath/Prawn%20roll.jpg downloaded\n",
      "image 44  :  http://commons.wikimedia.org/wiki/Special:FilePath/Salmon%20burger.jpg downloaded\n",
      "image 45  :  http://commons.wikimedia.org/wiki/Special:FilePath/Italian%20Sausage%20Sandwich.jpg downloaded\n",
      "image 46  :  http://commons.wikimedia.org/wiki/Special:FilePath/Cheese%20steak%20sandwich.jpg downloaded\n",
      "image 47  :  http://commons.wikimedia.org/wiki/Special:FilePath/Shredded%20Steak%20with%20Peppers%2C%20Onions%20and%20Tomatoes%20%28Ropa%20Vieja%29.jpg downloaded\n",
      "image 48  :  http://commons.wikimedia.org/wiki/Special:FilePath/An%20image%20of%20a%20toast%20sandwich%2C%20shot%20from%20the%20side.jpg downloaded\n",
      "image 49  :  http://commons.wikimedia.org/wiki/Special:FilePath/Two%20toast%20sandwiches%2C%20the%20Fat%20Duck%2C%20November%202012.jpg downloaded\n",
      "image 50  :  http://commons.wikimedia.org/wiki/Special:FilePath/Torta%20Ahogada%20%26%20Radish.jpg downloaded\n",
      "image 51  :  http://commons.wikimedia.org/wiki/Special:FilePath/Vegetable%20sandwich.jpg downloaded\n",
      "image 52  :  http://commons.wikimedia.org/wiki/Special:FilePath/Beirute%20sande.jpg downloaded\n",
      "image 53  :  http://commons.wikimedia.org/wiki/Special:FilePath/Sincronizada%20mexicana.jpg downloaded\n",
      "image 54  :  http://commons.wikimedia.org/wiki/Special:FilePath/Bifana%20on%20a%20plate.jpg downloaded\n",
      "image 55  :  http://commons.wikimedia.org/wiki/Special:FilePath/Steamed%20Sandwich%2Ctaken%20by%20LeoAlmighty.jpg downloaded\n",
      "image 56  :  http://commons.wikimedia.org/wiki/Special:FilePath/Sand.%20Mixto%20-%20Extra%20queso.jpg downloaded\n",
      "image 57  :  http://commons.wikimedia.org/wiki/Special:FilePath/Roti%20wrap%20made%20with%20curry%20goat%20and%20potatoes%2001.jpg downloaded\n",
      "image 58  :  http://commons.wikimedia.org/wiki/Special:FilePath/MISC%20Bake%20%26%20Shark.jpg downloaded\n",
      "image 59  :  http://commons.wikimedia.org/wiki/Special:FilePath/Pastrami-Sandwich.JPG downloaded\n",
      "image 60  :  http://commons.wikimedia.org/wiki/Special:FilePath/Polish%2C%20Pork%20Chop%20%26%20Onions.JPG downloaded\n",
      "image 61  :  http://commons.wikimedia.org/wiki/Special:FilePath/Sandwich%20de%20Medianoche.jpg downloaded\n",
      "image 62  :  http://commons.wikimedia.org/wiki/Special:FilePath/Millburn%20Deli%20Sloppy%20Joes.jpg downloaded\n",
      "image 63  :  http://commons.wikimedia.org/wiki/Special:FilePath/Doughwich.jpg downloaded\n",
      "image 64  :  http://commons.wikimedia.org/wiki/Special:FilePath/Fish%20sandwich%2C%20Istanbul%2C%20Turkey.JPG downloaded\n",
      "image 65  :  http://commons.wikimedia.org/wiki/Special:FilePath/Starters%2006.jpg downloaded\n",
      "image 66  :  http://commons.wikimedia.org/wiki/Special:FilePath/Tortamex.jpg downloaded\n",
      "image 67  :  http://commons.wikimedia.org/wiki/Special:FilePath/2015%200629%20Sailor%20at%20NYD.jpg downloaded\n",
      "image 68  :  http://commons.wikimedia.org/wiki/Special:FilePath/Spaghetti%20sandwich.jpg downloaded\n",
      "image 69  :  http://commons.wikimedia.org/wiki/Special:FilePath/Fresh%20tomato%20sandwich.jpg downloaded\n",
      "image 70  :  http://commons.wikimedia.org/wiki/Special:FilePath/Blue%20cheese%20and%20tomato%20sandwiches.jpg downloaded\n",
      "image 71  :  http://commons.wikimedia.org/wiki/Special:FilePath/Sandwich%20frites-omelette.jpg downloaded\n",
      "image 72  :  http://commons.wikimedia.org/wiki/Special:FilePath/Mmm...%20home%20made%20bbq%20sauce%20%285778277654%29.jpg downloaded\n",
      "image 73  :  http://commons.wikimedia.org/wiki/Special:FilePath/Salmon%20burger.jpg downloaded\n",
      "image 74  :  http://commons.wikimedia.org/wiki/Special:FilePath/Sandwich%20de%20chola.jpg downloaded\n",
      "image 75  :  http://commons.wikimedia.org/wiki/Special:FilePath/Black%20Buffalo%20Burger%20and%20fries%20-%20Black%20Sheep%20Lodge%2C%20Austin%2C%20Texas.jpg downloaded\n",
      "image 76  :  http://commons.wikimedia.org/wiki/Special:FilePath/Pan%20con%20Chicharron.jpg downloaded\n",
      "image 77  :  http://commons.wikimedia.org/wiki/Special:FilePath/Greenland%2042.74746W%2071.57394N.jpg downloaded\n",
      "image 78  :  http://commons.wikimedia.org/wiki/Special:FilePath/SundaIslands.A2003242.0225.500m.jpg downloaded\n",
      "image 79  :  http://commons.wikimedia.org/wiki/Special:FilePath/Greater%20sunda%20islands.png downloaded\n",
      "image 80  :  http://commons.wikimedia.org/wiki/Special:FilePath/PapuaNG.png downloaded\n",
      "image 81  :  http://commons.wikimedia.org/wiki/Special:FilePath/Gunung%20Kongkemul%20Borneo.png downloaded\n",
      "image 82  :  http://commons.wikimedia.org/wiki/Special:FilePath/Satellite%20image%20of%20Madagascar%20in%20September%202003.jpg downloaded\n",
      "image 83  :  http://commons.wikimedia.org/wiki/Special:FilePath/Wfm%20baffin%20island.jpg downloaded\n",
      "image 84  :  http://commons.wikimedia.org/wiki/Special:FilePath/Nepenthes%20junghuhnii%20distribution.png downloaded\n",
      "image 85  :  http://commons.wikimedia.org/wiki/Special:FilePath/Queen%20Elizabeth%20Islands%202009-08-27%20%28MODIS%29.jpg downloaded\n",
      "image 86  :  http://commons.wikimedia.org/wiki/Special:FilePath/Satellite%20image%20of%20Honshu%20in%20May%202003.png downloaded\n"
     ]
    }
   ],
   "source": [
    "with open(\"query.html\") as html_file:\n",
    "  soup = BeautifulSoup(html_file, 'html.parser')\n",
    "\n",
    "\n",
    "def download (i,Tab_link,folder):\n",
    "    filename ='image{}.jpg'.format(i)\n",
    "    full_path = '{}{}'.format(folder,filename)\n",
    "    url = Tab_link\n",
    "    response = urllib.request.urlretrieve(url,full_path)\n",
    "    return 0\n",
    "\n",
    "Tab_link = []\n",
    "\n",
    "folder = 'images/'\n",
    "\n",
    "for link in soup.find_all(\"td\"):\n",
    "  Tab_link.append(link.text)\n",
    "print(Tab_link)\n",
    "\n",
    "\n",
    "taille=0\n",
    "for i in range (len(Tab_link)):\n",
    "    if 'commons' in  Tab_link[i]:\n",
    "\n",
    "        download(taille,Tab_link[i],folder)\n",
    "        print('image',taille,' : ',Tab_link[i],'downloaded')\n",
    "        taille+=1\n",
    "\n"
   ],
   "metadata": {
    "collapsed": false,
    "pycharm": {
     "name": "#%%telecharger les images\n"
    }
   }
  },
  {
   "cell_type": "code",
   "execution_count": 8,
   "outputs": [
    {
     "name": "stdout",
     "output_type": "stream",
     "text": [
      "[['landscape', 9124608], ['landscape', 706560], ['portrait', 4915200], ['landscape', 185500], ['landscape', 589824], ['landscape', 12000000], ['portrait', 691200], ['portrait', 12052992], ['portrait', 19858176], ['portrait', 3145728], ['portrait', 684315], ['portrait', 282982], ['portrait', 9996], ['landscape', 307200], ['landscape', 13356288], ['portrait', 36720], ['portrait', 3287197], ['landscape', 208884], ['portrait', 383966], ['landscape', 205485], ['landscape', 17915904], ['landscape', 77000], ['portrait', 3441888], ['landscape', 162409], ['landscape', 246100], ['landscape', 699392], ['landscape', 616482], ['portrait', 1728428], ['portrait', 12192768], ['landscape', 12000000], ['portrait', 270000], ['portrait', 1470636], ['landscape', 4194304], ['landscape', 2795520], ['landscape', 19961856], ['landscape', 1500000], ['landscape', 3375000], ['landscape', 7680000], ['portrait', 87380], ['landscape', 7990272], ['landscape', 1920000], ['landscape', 2928640], ['landscape', 5769624], ['landscape', 533120], ['landscape', 699392], ['landscape', 786432], ['portrait', 2785280], ['landscape', 4572774], ['landscape', 786432], ['landscape', 750000], ['landscape', 3145728], ['landscape', 172800], ['landscape', 86710], ['landscape', 823064], ['landscape', 786432], ['landscape', 374544], ['landscape', 10077696], ['landscape', 307200], ['landscape', 13996800], ['landscape', 10036224], ['landscape', 2010624], ['landscape', 1228800], ['landscape', 7990272], ['landscape', 921600], ['landscape', 307200], ['landscape', 4915200], ['landscape', 152100], ['landscape', 5992704], ['landscape', 9980928], ['landscape', 2225600], ['landscape', 1770093], ['landscape', 9932193], ['landscape', 1713600], ['landscape', 699392], ['landscape', 4416000], ['landscape', 480000], ['landscape', 374544], ['landscape', 1226240], ['landscape', 3740000], ['landscape', 137632], ['landscape', 899300], ['landscape', 1213440], ['portrait', 19811096], ['landscape', 1213440], ['landscape', 921375], ['landscape', 24640000], ['landscape', 4630936]]\n"
     ]
    }
   ],
   "source": [
    "\"\"\"  exif\n",
    "\n",
    "for i in range(87):\n",
    "\n",
    "    path='images/image'+str(i)+'.jpg'\n",
    "\n",
    "    image=Image.open(path)\n",
    "    exif= {}\n",
    "    if image._getexif():\n",
    "        for tag,value in image._getexif().items():\n",
    "            if tag in TAGS:\n",
    "                exif['tagData']=1\n",
    "                exif[TAGS[tag]]=value\n",
    "\n",
    "\n",
    "    else:\n",
    "        exif['tagData']=0\n",
    "    Data.append(exif)\n",
    "\n",
    "for i in range(len(Data)):\n",
    "    print(i)\n",
    "    print('taille :',Data[i]['ExifImageWidth']*Data[i]['ExifImageHeight'])\n",
    "\"\"\"\n",
    "# Image size+mode\n",
    "size=[]\n",
    "for i in range(taille):\n",
    "    s=[]\n",
    "\n",
    "    path='images/image'+str(i)+'.jpg'\n",
    "\n",
    "    image=Image.open(path)\n",
    "    x,y=image.size\n",
    "    if y>x:\n",
    "        s.append('portrait')\n",
    "\n",
    "    else:\n",
    "        s.append('landscape')\n",
    "    s.append(x*y)\n",
    "\n",
    "\n",
    "    size.append(s)\n",
    "\n",
    "\n",
    "print(size)"
   ],
   "metadata": {
    "collapsed": false,
    "pycharm": {
     "name": "#%%creer une liste de donnee Data concernant chaque image en utilisant exif apres avoir lu l'exif de chaque image j'ai trouver qu'il serait plus interessant d'utiliser la bib PIL et ne prendre que la taille et le mode de l'image\n"
    }
   }
  },
  {
   "cell_type": "code",
   "execution_count": 17,
   "outputs": [
    {
     "ename": "MemoryError",
     "evalue": "",
     "output_type": "error",
     "traceback": [
      "\u001B[1;31m---------------------------------------------------------------------------\u001B[0m",
      "\u001B[1;31mMemoryError\u001B[0m                               Traceback (most recent call last)",
      "\u001B[1;32m<ipython-input-17-314e480151c2>\u001B[0m in \u001B[0;36m<module>\u001B[1;34m\u001B[0m\n\u001B[0;32m      1\u001B[0m \u001B[0mimgfile\u001B[0m \u001B[1;33m=\u001B[0m \u001B[0mImage\u001B[0m\u001B[1;33m.\u001B[0m\u001B[0mopen\u001B[0m\u001B[1;33m(\u001B[0m\u001B[1;34m'images/image0.jpg'\u001B[0m\u001B[1;33m)\u001B[0m\u001B[1;33m\u001B[0m\u001B[1;33m\u001B[0m\u001B[0m\n\u001B[0;32m      2\u001B[0m \u001B[0mColors\u001B[0m\u001B[1;33m=\u001B[0m\u001B[1;33m[\u001B[0m\u001B[1;33m]\u001B[0m\u001B[1;33m\u001B[0m\u001B[1;33m\u001B[0m\u001B[0m\n\u001B[1;32m----> 3\u001B[1;33m \u001B[0mnumarray\u001B[0m \u001B[1;33m=\u001B[0m \u001B[0mnumpy\u001B[0m\u001B[1;33m.\u001B[0m\u001B[0marray\u001B[0m\u001B[1;33m(\u001B[0m\u001B[0mimgfile\u001B[0m\u001B[1;33m.\u001B[0m\u001B[0mgetdata\u001B[0m\u001B[1;33m(\u001B[0m\u001B[1;33m)\u001B[0m\u001B[1;33m,\u001B[0m \u001B[0mnumpy\u001B[0m\u001B[1;33m.\u001B[0m\u001B[0muint8\u001B[0m\u001B[1;33m)\u001B[0m\u001B[1;33m\u001B[0m\u001B[1;33m\u001B[0m\u001B[0m\n\u001B[0m\u001B[0;32m      4\u001B[0m \u001B[0mprint\u001B[0m\u001B[1;33m(\u001B[0m\u001B[0mimgfile\u001B[0m\u001B[1;33m.\u001B[0m\u001B[0mgetdata\u001B[0m\u001B[1;33m(\u001B[0m\u001B[1;33m)\u001B[0m\u001B[1;33m)\u001B[0m\u001B[1;33m\u001B[0m\u001B[1;33m\u001B[0m\u001B[0m\n\u001B[0;32m      5\u001B[0m \u001B[0mprint\u001B[0m\u001B[1;33m(\u001B[0m\u001B[0mnumarray\u001B[0m\u001B[1;33m)\u001B[0m\u001B[1;33m\u001B[0m\u001B[1;33m\u001B[0m\u001B[0m\n",
      "\u001B[1;31mMemoryError\u001B[0m: "
     ]
    }
   ],
   "source": [
    "imgfile = Image.open('images/image0.jpg')\n",
    "Colors=[]\n",
    "numarray = numpy.array(imgfile.getdata(), numpy.uint8)\n",
    "print(imgfile.getdata())\n",
    "print(numarray)\n",
    "def convert_rgb_to_names(rgb_tuple):\n",
    "    # a dictionary of all the hex and their respective names in css3\n",
    "    css3_db = CSS3_HEX_TO_NAMES\n",
    "    names = []\n",
    "    rgb_values = []\n",
    "    for color_hex, color_name in css3_db.items():\n",
    "        names.append(color_name)\n",
    "        rgb_values.append(hex_to_rgb(color_hex))\n",
    "\n",
    "    kdt_db = KDTree(rgb_values)\n",
    "    distance, index = kdt_db.query(rgb_tuple)\n",
    "    return f' {names[index]}'\n",
    "\n",
    "\n",
    "\n",
    "\n",
    "def couleurDominante(image):\n",
    "    imgfile = Image.open(image)\n",
    "    numarray = numpy.array(imgfile.getdata(), numpy.uint8)\n",
    "    clusters = KMeans(n_clusters=3)\n",
    "    clusters.fit(numarray)\n",
    "    npbins = numpy.arange(0, 5)\n",
    "    histogram = numpy.histogram(clusters.labels_, bins=npbins)\n",
    "    labels = numpy.unique(clusters.labels_)\n",
    "    for i in range(3):\n",
    "        if histogram[0][i]==max(histogram[0]):\n",
    "            color= (math.ceil(clusters.cluster_centers_[i][0]),\n",
    "                math.ceil(clusters.cluster_centers_[i][1]),\n",
    "                math.ceil(clusters.cluster_centers_[i][2]))\n",
    "    return convert_rgb_to_names(color)\n",
    "\n",
    "\n",
    "\n",
    "for i in range(87):\n",
    "    print(i)\n",
    "    path='images/image'+str(i)+'.jpg'\n",
    "    couleurDominante(path)\n",
    "    try:\n",
    "        Colors.append(couleurDominante(path))\n",
    "    except:\n",
    "        Colors.append('NONE')\n",
    "\n",
    "\n",
    "print(Colors)"
   ],
   "metadata": {
    "collapsed": false,
    "pycharm": {
     "name": "#%%ajouter la couleur dominante a la liste colors\n"
    }
   }
  },
  {
   "cell_type": "code",
   "execution_count": 10,
   "outputs": [],
   "source": [
    "tags=[]\n",
    "\n",
    "for i in range(40):\n",
    "    tags.append('cat')\n",
    "for i in range(37):\n",
    "    tags.append('sandwich')\n",
    "for i in range(10):\n",
    "    tags.append('island')\n",
    "\n",
    "\n"
   ],
   "metadata": {
    "collapsed": false,
    "pycharm": {
     "name": "#%%tags\n"
    }
   }
  },
  {
   "cell_type": "code",
   "execution_count": 12,
   "outputs": [
    {
     "name": "stdout",
     "output_type": "stream",
     "text": [
      "[['landscape', 9124608, 'cat', 'NONE'], ['landscape', 706560, 'cat', ' lavender'], ['portrait', 4915200, 'cat', ' darkslategray'], ['landscape', 185500, 'cat', ' lightgray'], ['landscape', 589824, 'cat', ' sienna'], ['landscape', 12000000, 'cat', 'NONE'], ['portrait', 691200, 'cat', ' gray'], ['portrait', 12052992, 'cat', 'NONE'], ['portrait', 19858176, 'cat', 'NONE'], ['portrait', 3145728, 'cat', ' gray'], ['portrait', 684315, 'cat', ' black'], ['portrait', 282982, 'cat', ' gainsboro'], ['portrait', 9996, 'cat', ' darkslategray'], ['landscape', 307200, 'cat', ' saddlebrown'], ['landscape', 13356288, 'cat', 'NONE'], ['portrait', 36720, 'cat', ' dimgray'], ['portrait', 3287197, 'cat', ' silver'], ['landscape', 208884, 'cat', ' gray'], ['portrait', 383966, 'cat', ' black'], ['landscape', 205485, 'cat', ' black'], ['landscape', 17915904, 'cat', 'NONE'], ['landscape', 77000, 'cat', ' black'], ['portrait', 3441888, 'cat', ' darkslategray'], ['landscape', 162409, 'cat', ' black'], ['landscape', 246100, 'cat', ' black'], ['landscape', 699392, 'cat', ' black'], ['landscape', 616482, 'cat', ' gray'], ['portrait', 1728428, 'cat', ' black'], ['portrait', 12192768, 'cat', 'NONE'], ['landscape', 12000000, 'cat', 'NONE'], ['portrait', 270000, 'cat', ' dimgray'], ['portrait', 1470636, 'cat', ' gray'], ['landscape', 4194304, 'cat', ' gainsboro'], ['landscape', 2795520, 'cat', ' darkgray'], ['landscape', 19961856, 'cat', 'NONE'], ['landscape', 1500000, 'cat', ' darkslategray'], ['landscape', 3375000, 'cat', ' dimgray'], ['landscape', 7680000, 'cat', 'NONE'], ['portrait', 87380, 'cat', ' darkslategray'], ['landscape', 7990272, 'cat', 'NONE'], ['landscape', 1920000, 'sandwich', ' darkolivegreen'], ['landscape', 2928640, 'sandwich', ' burlywood'], ['landscape', 5769624, 'sandwich', ' tan'], ['landscape', 533120, 'sandwich', ' sienna'], ['landscape', 699392, 'sandwich', ' tan'], ['landscape', 786432, 'sandwich', ' saddlebrown'], ['portrait', 2785280, 'sandwich', ' peru'], ['landscape', 4572774, 'sandwich', ' silver'], ['landscape', 786432, 'sandwich', ' darkolivegreen'], ['landscape', 750000, 'sandwich', ' black'], ['landscape', 3145728, 'sandwich', ' sienna'], ['landscape', 172800, 'sandwich', ' darkgray'], ['landscape', 86710, 'sandwich', ' darkkhaki'], ['landscape', 823064, 'sandwich', ' silver'], ['landscape', 786432, 'sandwich', ' black'], ['landscape', 374544, 'sandwich', ' antiquewhite'], ['landscape', 10077696, 'sandwich', 'NONE'], ['landscape', 307200, 'sandwich', ' gray'], ['landscape', 13996800, 'sandwich', 'NONE'], ['landscape', 10036224, 'sandwich', 'NONE'], ['landscape', 2010624, 'sandwich', ' darkolivegreen'], ['landscape', 1228800, 'sandwich', ' peru'], ['landscape', 7990272, 'sandwich', 'NONE'], ['landscape', 921600, 'sandwich', ' wheat'], ['landscape', 307200, 'sandwich', ' lightpink'], ['landscape', 4915200, 'sandwich', ' darkgray'], ['landscape', 152100, 'sandwich', ' peru'], ['landscape', 5992704, 'sandwich', ' gray'], ['landscape', 9980928, 'sandwich', 'NONE'], ['landscape', 2225600, 'sandwich', ' chocolate'], ['landscape', 1770093, 'sandwich', ' darkkhaki'], ['landscape', 9932193, 'sandwich', 'NONE'], ['landscape', 1713600, 'sandwich', ' peru'], ['landscape', 699392, 'sandwich', ' tan'], ['landscape', 4416000, 'sandwich', ' peru'], ['landscape', 480000, 'sandwich', ' black'], ['landscape', 374544, 'sandwich', ' peru'], ['landscape', 1226240, 'island', ' black'], ['landscape', 3740000, 'island', ' darkslategray'], ['landscape', 137632, 'island', ' white'], ['landscape', 899300, 'island', ' black'], ['landscape', 1213440, 'island', ' midnightblue'], ['portrait', 19811096, 'island', 'NONE'], ['landscape', 1213440, 'island', ' black'], ['landscape', 921375, 'island', ' midnightblue'], ['landscape', 24640000, 'island', 'NONE'], ['landscape', 4630936, 'island', 'NONE']]\n"
     ]
    }
   ],
   "source": [
    "Data=[]\n",
    "for i in range(len(size)):\n",
    "    S=[]\n",
    "    S.append(size[i][0])\n",
    "    S.append(size[i][1])\n",
    "    S.append(tags[i])\n",
    "    S.append(Colors[i])\n",
    "    Data.append(S)\n",
    "\n",
    "print(Data)\n"
   ],
   "metadata": {
    "collapsed": false,
    "pycharm": {
     "name": "#%% mettre toutes nos info dans la meme liste Data\n"
    }
   }
  },
  {
   "cell_type": "code",
   "execution_count": 19,
   "outputs": [
    {
     "name": "stdout",
     "output_type": "stream",
     "text": [
      "[58, 13, 80, 11, 75, 62, 36, 10, 18, 38]\n"
     ]
    },
    {
     "ename": "ValueError",
     "evalue": "invalid literal for int() with base 10: ''",
     "output_type": "error",
     "traceback": [
      "\u001B[1;31m---------------------------------------------------------------------------\u001B[0m",
      "\u001B[1;31mValueError\u001B[0m                                Traceback (most recent call last)",
      "\u001B[1;32m<ipython-input-19-61b042b12d43>\u001B[0m in \u001B[0;36m<module>\u001B[1;34m\u001B[0m\n\u001B[0;32m     10\u001B[0m     \u001B[0mimg\u001B[0m\u001B[1;33m=\u001B[0m\u001B[0mImage\u001B[0m\u001B[1;33m.\u001B[0m\u001B[0mopen\u001B[0m\u001B[1;33m(\u001B[0m\u001B[0mpath\u001B[0m\u001B[1;33m)\u001B[0m\u001B[1;33m\u001B[0m\u001B[1;33m\u001B[0m\u001B[0m\n\u001B[0;32m     11\u001B[0m     \u001B[0mimg\u001B[0m\u001B[1;33m.\u001B[0m\u001B[0mshow\u001B[0m\u001B[1;33m(\u001B[0m\u001B[1;33m)\u001B[0m\u001B[1;33m\u001B[0m\u001B[1;33m\u001B[0m\u001B[0m\n\u001B[1;32m---> 12\u001B[1;33m     \u001B[0mnote\u001B[0m\u001B[1;33m=\u001B[0m\u001B[0mint\u001B[0m\u001B[1;33m(\u001B[0m\u001B[0minput\u001B[0m\u001B[1;33m(\u001B[0m\u001B[1;34m'notez la photo de 0 a 5 :'\u001B[0m\u001B[1;33m)\u001B[0m\u001B[1;33m)\u001B[0m\u001B[1;33m\u001B[0m\u001B[1;33m\u001B[0m\u001B[0m\n\u001B[0m\u001B[0;32m     13\u001B[0m     \u001B[0mresultat\u001B[0m\u001B[1;33m.\u001B[0m\u001B[0mappend\u001B[0m\u001B[1;33m(\u001B[0m\u001B[0mnote\u001B[0m\u001B[1;33m)\u001B[0m\u001B[1;33m\u001B[0m\u001B[1;33m\u001B[0m\u001B[0m\n\u001B[0;32m     14\u001B[0m     \u001B[0mimg\u001B[0m\u001B[1;33m.\u001B[0m\u001B[0mclose\u001B[0m\u001B[1;33m(\u001B[0m\u001B[1;33m)\u001B[0m\u001B[1;33m\u001B[0m\u001B[1;33m\u001B[0m\u001B[0m\n",
      "\u001B[1;31mValueError\u001B[0m: invalid literal for int() with base 10: ''"
     ]
    }
   ],
   "source": [
    "samples=[] #une liste contenant des echantillants de photo a montrer aux utilisateurs\n",
    "\n",
    "for i in range(0,10):\n",
    "    n = random.randint(0,86)\n",
    "    samples.append(n)\n",
    "print(samples)\n",
    "resultat=[]\n",
    "for i in samples:\n",
    "    path='images/image'+str(i)+'.jpg'\n",
    "    img=Image.open(path)\n",
    "    img.show()\n",
    "    note=int(input('notez la photo de 0 a 5 :'))\n",
    "    resultat.append(note)\n",
    "    img.close()\n",
    "\n",
    "samplesData=[]\n",
    "for i in samples:\n",
    "    samplesData.append(Data[i])"
   ],
   "metadata": {
    "collapsed": false,
    "pycharm": {
     "name": "#%%creation des utilisateurs\n"
    }
   }
  },
  {
   "cell_type": "code",
   "execution_count": 85,
   "outputs": [
    {
     "name": "stdout",
     "output_type": "stream",
     "text": [
      "0         lightpink\n",
      "1              NONE\n",
      "2     darkslategray\n",
      "3     darkslategray\n",
      "4            sienna\n",
      "5              NONE\n",
      "6              peru\n",
      "7             white\n",
      "8              gray\n",
      "9             black\n",
      "Name: color, dtype: object\n",
      "0    3\n",
      "1    7\n",
      "2    1\n",
      "3    1\n",
      "4    5\n",
      "5    7\n",
      "6    4\n",
      "7    6\n",
      "8    2\n",
      "9    0\n",
      "Name: color, dtype: int32\n",
      "[3, 0, 3, 0, 5, 3, 5, 3, 3, 3, 5, 0, 5, 0, 3, 0, 0, 5, 5, 5, 3, 5, 3, 5, 5, 5, 5, 5, 3, 3, 0, 5, 0, 0, 3, 5, 0, 3, 5, 3, 0, 0, 0, 0, 0, 0, 3, 0, 0, 0, 2, 0, 0, 0, 0, 0, 2, 0, 2, 2, 0, 0, 2, 0, 0, 0, 0, 2, 2, 0, 0, 2, 0, 0, 2, 0, 0, 5, 3, 5, 5, 0, 3, 5, 0, 3, 3]\n"
     ]
    }
   ],
   "source": [
    "#creating dataframes\n",
    "\n",
    "dataframe = pd.DataFrame(samplesData, columns=['mode', 'size', 'tag', 'color'])\n",
    "resultframe = pd.DataFrame(resultat, columns=['note'])\n",
    "\n",
    "le1 = LabelEncoder()\n",
    "dataframe['mode'] = le1.fit_transform(dataframe['mode'])\n",
    "\n",
    "le2 = LabelEncoder()\n",
    "\n",
    "\n",
    "le3 = LabelEncoder()\n",
    "dataframe['tag'] = le3.fit_transform(dataframe['tag'])\n",
    "\n",
    "\n",
    "le4 = LabelEncoder()\n",
    "print(dataframe['color'])\n",
    "dataframe['color'] = le4.fit_transform(dataframe['color'])\n",
    "print(dataframe['color'])\n",
    "\n",
    "\n",
    "dtc = tree.DecisionTreeClassifier()\n",
    "dtc = dtc.fit(dataframe, resultframe)\n",
    "\n",
    "\n",
    "predictionOfAllPictures=[]\n",
    "\n",
    "for i in Data:\n",
    "    try:\n",
    "        prediction = dtc.predict([\n",
    "            [le1.transform([i[0]])[0], i[1],\n",
    "             le3.transform([i[2]])[0], le4.transform([i[3]])[0]]])\n",
    "        predictionOfAllPictures.append(prediction[0])\n",
    "    except:\n",
    "        prediction=0\n",
    "        predictionOfAllPictures.append(prediction)\n",
    "print(predictionOfAllPictures)\n",
    "\n",
    "cpt=0\n",
    "for i in range(len(predictionOfAllPictures)):\n",
    "    cpt+=1\n",
    "    if mean(samplesData)>0:\n",
    "        if predictionOfAllPictures[i]>=mean(samplesData):\n",
    "            path='images/image'+str(i)+'.jpg'\n",
    "            img=Image.open(path)\n",
    "            img.show()\n",
    "            time.sleep(1)\n",
    "            img.close()\n",
    "    else:\n",
    "        print(\"on n'a pas pu trouver d'image qui vous plaira ! vous etes dure a satisfaire !!!\")\n",
    "\n"
   ],
   "metadata": {
    "collapsed": false,
    "pycharm": {
     "name": "#%%\n"
    }
   }
  }
 ],
 "metadata": {
  "kernelspec": {
   "display_name": "Python 3",
   "language": "python",
   "name": "python3"
  },
  "language_info": {
   "codemirror_mode": {
    "name": "ipython",
    "version": 2
   },
   "file_extension": ".py",
   "mimetype": "text/x-python",
   "name": "python",
   "nbconvert_exporter": "python",
   "pygments_lexer": "ipython2",
   "version": "2.7.6"
  }
 },
 "nbformat": 4,
 "nbformat_minor": 0
}